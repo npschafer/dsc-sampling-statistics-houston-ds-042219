{
 "cells": [
  {
   "cell_type": "markdown",
   "metadata": {},
   "source": [
    "# Sampling Statistics\n",
    "\n",
    "## Introduction\n",
    "\n",
    "Typically we don't know statistics about a population itself; the only way to know these for sure would be to survey the entirety of the population which is typically impractical. For example, to know the true salary mean of individuals in the United States, we would have to survey each and every individual.\n",
    "\n",
    "In lieu of being able to know the true underlying population statistics, we estimate them. Point estimates are estimates of population parameters based on sample data. For instance, if we wanted to know the average age of registered voters in the U.S., we could take a survey of registered voters and then use the average age of the respondents as a point estimate of the average age of the population as a whole. \n",
    "\n",
    "The average of a sample is known as the sample mean. Sampling distribution can be thought of as relative frequency distribution with a large number of samples. A relative frequency distribution tends to approach the sampling distribution as number of samples increase.\n",
    "\n",
    "## Objectives\n",
    "You will be able to:\n",
    "\n",
    "* Calculate and interpret standard error\n",
    "\n",
    "## Background and Terminologies \n",
    "\n",
    "In order to learn the **population mean**, we dont measure the whole population. Instead, we take a random sample and use **sample mean, ( x_bar or $\\bar{x}$ )** to estimate population mean **( mu or μ )**. The sample mean is usually not exactly the same as the population mean and depends upon the values of samples chosen, however the population mean remains fixed. While using **sample mean** to estimate population mean, we come across **sampling error**, which directly relates to the **standard deviation** of a sampling statistic (e.g. mean values). This difference can be caused by many factors including poor survey design, biased sampling methods and the randomness inherent to drawing a sample from a population.\n",
    "\n",
    "Let's learn about these concepts through an example."
   ]
  },
  {
   "cell_type": "markdown",
   "metadata": {},
   "source": [
    ">**Pumpkin Weights**\n",
    ">The population is the weight of six pumpkins (in pounds) displayed in a carnival \"guess the weight\" game booth. You are asked to guess the average weight of the six pumpkins by picking two pumpkins at a time randomly untill all pumpkins have been used.\n",
    "\n",
    "| Pumpkin | Weight (in pounds) |\n",
    "|---------|--------------------|\n",
    "| A       |       19           |\n",
    "| B       |       14           |\n",
    "| C       |       15           |\n",
    "| D       |       9            |\n",
    "| E       |       10           |\n",
    "| F       |       17           |"
   ]
  },
  {
   "cell_type": "markdown",
   "metadata": {},
   "source": [
    "## Step 1\n",
    "\n",
    "Lets calculate the population mean first, which we calculate as:\n",
    "\n",
    "**μ = sum of all elements / N** (where N is population size)"
   ]
  },
  {
   "cell_type": "code",
   "execution_count": 1,
   "metadata": {},
   "outputs": [],
   "source": [
    "# Import necessary libraries\n",
    "import numpy as np\n",
    "from collections import Counter\n",
    "import matplotlib.pyplot as plt\n",
    "import itertools"
   ]
  },
  {
   "cell_type": "markdown",
   "metadata": {},
   "source": [
    "Create two lists with pumpkin name and respective pumpkin weights. COmbine the lists to create a pumpkin directory with name as keys and weights as values. "
   ]
  },
  {
   "cell_type": "code",
   "execution_count": 8,
   "metadata": {},
   "outputs": [
    {
     "name": "stdout",
     "output_type": "stream",
     "text": [
      "{'A': 19.0, 'B': 14.0, 'C': 15.0, 'D': 9.0, 'E': 10.0, 'F': 17.0}\n"
     ]
    }
   ],
   "source": [
    "# Create two lists with pumpkin names and weights\n",
    "\n",
    "pumpkin = [ x for x in \"\"\"| A       |       19           |\n",
    "| B       |       14           |\n",
    "| C       |       15           |\n",
    "| D       |       9            |\n",
    "| E       |       10           |\n",
    "| F       |       17           |\"\"\".split() if not x == \"|\"][::2]\n",
    "weights = [ x for x in \"\"\"| A       |       19           |\n",
    "| B       |       14           |\n",
    "| C       |       15           |\n",
    "| D       |       9            |\n",
    "| E       |       10           |\n",
    "| F       |       17           |\"\"\".split() if not x == \"|\"][1::2]\n",
    "weights = np.array(weights).astype(float)\n",
    "\n",
    "# Combine both lists to create a dictionary\n",
    "\n",
    "pumpkin_dict = dict(zip(pumpkin, weights))\n",
    "\n",
    "print (pumpkin_dict)\n",
    "\n",
    "#{'A': 19, 'B': 14, 'C': 15, 'D': 9, 'E': 10, 'F': 17}\n"
   ]
  },
  {
   "cell_type": "markdown",
   "metadata": {},
   "source": [
    "Now lets try to calculate the mean of the pumpkin population and also visualise the weight distribution. "
   ]
  },
  {
   "cell_type": "code",
   "execution_count": 11,
   "metadata": {},
   "outputs": [
    {
     "data": {
      "text/plain": [
       "14.0"
      ]
     },
     "execution_count": 11,
     "metadata": {},
     "output_type": "execute_result"
    }
   ],
   "source": [
    "# Calculate the population mean from pumpkin_dict\n",
    "\n",
    "def calculate_mu(x):\n",
    "\n",
    "    # USe the formula for mu given above\n",
    "    d = np.mean(list(x.values()))\n",
    "\n",
    "    return (d)   \n",
    "\n",
    "mu = calculate_mu(pumpkin_dict)\n",
    "mu\n",
    "\n",
    "# 14.0"
   ]
  },
  {
   "cell_type": "markdown",
   "metadata": {},
   "source": [
    "That was pretty a straightforward exercise. Let's use the data we have so far to visualise the weights of individual pumpkins and mean weight. "
   ]
  },
  {
   "cell_type": "code",
   "execution_count": 12,
   "metadata": {},
   "outputs": [
    {
     "data": {
      "text/plain": [
       "<BarContainer object of 6 artists>"
      ]
     },
     "execution_count": 12,
     "metadata": {},
     "output_type": "execute_result"
    },
    {
     "data": {
      "image/png": "[encoded data removed]",
      "text/plain": [
       "<Figure size 432x288 with 1 Axes>"
      ]
     },
     "metadata": {
      "needs_background": "light"
     },
     "output_type": "display_data"
    }
   ],
   "source": [
    "# Plot a bar graph showing weights of pumpkins and highlight the mean weight\n",
    "plt.bar(pumpkin, weights)\n"
   ]
  },
  {
   "cell_type": "markdown",
   "metadata": {},
   "source": [
    "We can see only one pumpkin has weight which is equal to mean weight (B:14). Let's try to simulate the random sampling process as stated below. "
   ]
  },
  {
   "cell_type": "markdown",
   "metadata": {},
   "source": [
    "## Step 2 : Calculate mean of samples\n",
    "\n",
    "From the `pumpkin_dict`, we can now obtain the sampling distributions of the sample mean for a given sample size. We'll do this while sampling without replacement (to reflect the idea that one can have two pumpkins at a given time, and will be taken out of population once used). \n",
    "\n",
    "Let's also try to make the code more flexible to allow sampling any number of pumpkins from the population, to study the effect of sample size on sample mean. "
   ]
  },
  {
   "cell_type": "markdown",
   "metadata": {},
   "source": [
    "To achieve this, first we need to identify all the possible combinations that can be observed by choosing 2 pumpkins from the population, following the game rule."
   ]
  },
  {
   "cell_type": "code",
   "execution_count": 16,
   "metadata": {},
   "outputs": [
    {
     "data": {
      "text/plain": [
       "[('A', 'B'),\n",
       " ('A', 'C'),\n",
       " ('A', 'D'),\n",
       " ('A', 'E'),\n",
       " ('A', 'F'),\n",
       " ('B', 'C'),\n",
       " ('B', 'D'),\n",
       " ('B', 'E'),\n",
       " ('B', 'F'),\n",
       " ('C', 'D'),\n",
       " ('C', 'E'),\n",
       " ('C', 'F'),\n",
       " ('D', 'E'),\n",
       " ('D', 'F'),\n",
       " ('E', 'F')]"
      ]
     },
     "execution_count": 16,
     "metadata": {},
     "output_type": "execute_result"
    }
   ],
   "source": [
    "# Identify a sample size n \n",
    "n = 2 \n",
    "\n",
    "# Use itertools.combinations() to generate and print a list of combinations\n",
    "combs = itertools.combinations(pumpkin_dict.keys(), 2)\n",
    "\n",
    "list(combs)\n",
    "# Using 2 samples, we can see 15 possible combinations as below:\n",
    "# [('A', 'B'), ('A', 'C'), ('A', 'D'), ('A', 'E'), ('A', 'F'), ('B', 'C'), ('B', 'D'), \n",
    "#  ('B', 'E'), ('B', 'F'), ('C', 'D'), ('C', 'E'), ('C', 'F'), ('D', 'E'), ('D', 'F'), \n",
    "#  ('E', 'F')]\n"
   ]
  },
  {
   "cell_type": "markdown",
   "metadata": {},
   "source": [
    "Great. We can now generate any number of combinations from the population (try changing the value of n above). Next step in the process is to calculate the mean of all possible combinations and study weather these means differes from the population mean, and whether sample size has any effect towards estimating population mean. \n",
    "\n",
    "Lets write a function which would include the code for generating combinations as above and also identifying mean for each sample. "
   ]
  },
  {
   "cell_type": "code",
   "execution_count": 23,
   "metadata": {},
   "outputs": [
    {
     "name": "stdout",
     "output_type": "stream",
     "text": [
      "Mean of population is: 14.0\n"
     ]
    },
    {
     "data": {
      "text/plain": [
       "[(('A', 'B'), 16.5),\n",
       " (('A', 'C'), 17.0),\n",
       " (('A', 'D'), 14.0),\n",
       " (('A', 'E'), 14.5),\n",
       " (('A', 'F'), 18.0),\n",
       " (('B', 'C'), 14.5),\n",
       " (('B', 'D'), 11.5),\n",
       " (('B', 'E'), 12.0),\n",
       " (('B', 'F'), 15.5),\n",
       " (('C', 'D'), 12.0),\n",
       " (('C', 'E'), 12.5),\n",
       " (('C', 'F'), 16.0),\n",
       " (('D', 'E'), 9.5),\n",
       " (('D', 'F'), 13.0),\n",
       " (('E', 'F'), 13.5)]"
      ]
     },
     "execution_count": 23,
     "metadata": {},
     "output_type": "execute_result"
    }
   ],
   "source": [
    "\n",
    "def sample_means(sample_size, data):\n",
    "\n",
    "    \"\"\"\n",
    "    This function takes in population data as a dictionary along with a chosen sample size \n",
    "    to generate all possible combinations of given sample size. \n",
    "    The function calculates the mean of each sample and returns:\n",
    "    a) a list of all combinations ( as tuples ) \n",
    "    b) a list of means for all sample\n",
    "    \"\"\"\n",
    "\n",
    "    n = sample_size\n",
    "\n",
    "    # Calculate the mean of population\n",
    "    mu = np.mean(list(data.values()))\n",
    "    print (\"Mean of population is:\", mu)\n",
    "\n",
    "    # Generate all possible combinations using given sample size\n",
    "    combs = list(itertools.combinations(data.keys(), sample_size))\n",
    "\n",
    "    # Calculate the mean weight (x_bar) for all the combinations (samples) using the given data\n",
    "    # Calculate sample mean for all combinations and append to x_bar_list\n",
    "    x_bar_list = []\n",
    "    for comb in combs:\n",
    "        total_weight = 0.0\n",
    "        for item in comb:\n",
    "            total_weight += data[item]\n",
    "        mean_weight = total_weight/len(comb)\n",
    "        x_bar_list.append(mean_weight)\n",
    "\n",
    "    return combs, x_bar_list\n",
    "\n",
    "n = 2 #Sample size\n",
    "\n",
    "combs, means = sample_means(n, pumpkin_dict)\n",
    "\n",
    "# Print the sample combinations with their means\n",
    "\n",
    "list(zip(combs, means))\n",
    "\n",
    "# Using 2 samples, we can see 15 possible combinations as below:\n",
    "# The mean of all sample means mu_x_hat is: 14.0\n",
    "# ('A', 'B') 16.5\n",
    "# ('A', 'C') 17.0\n",
    "# ('A', 'D') 14.0\n",
    "# ('A', 'E') 14.5\n",
    "# ('A', 'F') 18.0\n",
    "# ('B', 'C') 14.5\n",
    "# ('B', 'D') 11.5\n",
    "# ('B', 'E') 12.0\n",
    "# ('B', 'F') 15.5\n",
    "# ('C', 'D') 12.0\n",
    "# ('C', 'E') 12.5\n",
    "# ('C', 'F') 16.0\n",
    "# ('D', 'E') 9.5\n",
    "# ('D', 'F') 13.0\n",
    "# ('E', 'F') 13.5\n",
    "# The mean of all sample means mu_x_hat is: 14.0"
   ]
  },
  {
   "cell_type": "markdown",
   "metadata": {},
   "source": [
    "Thus, even though each sample may give you an answer involving some error, the expected value is right at the target: exactly the population mean. In other words, \n",
    ">If one does the experiment over and over again, the overall average of the sample mean is exactly the population mean.\n",
    "\n",
    "In the output above, we can see that some mean values i.e. 14.5, 12, are being repeated in the combinations. We can develop a frequency table identify the probability of seeing different mean value. "
   ]
  },
  {
   "cell_type": "code",
   "execution_count": 29,
   "metadata": {},
   "outputs": [],
   "source": [
    "import collections"
   ]
  },
  {
   "cell_type": "code",
   "execution_count": 30,
   "metadata": {},
   "outputs": [
    {
     "data": {
      "text/plain": [
       "Counter({16.5: 1,\n",
       "         17.0: 1,\n",
       "         14.0: 1,\n",
       "         14.5: 2,\n",
       "         18.0: 1,\n",
       "         11.5: 1,\n",
       "         12.0: 2,\n",
       "         15.5: 1,\n",
       "         12.5: 1,\n",
       "         16.0: 1,\n",
       "         9.5: 1,\n",
       "         13.0: 1,\n",
       "         13.5: 1})"
      ]
     },
     "execution_count": 30,
     "metadata": {},
     "output_type": "execute_result"
    }
   ],
   "source": [
    "collections.Counter(means)"
   ]
  },
  {
   "cell_type": "code",
   "execution_count": 35,
   "metadata": {},
   "outputs": [
    {
     "data": {
      "text/plain": [
       "[(('A', 'B'), 16.5, 0.06666666666666667),\n",
       " (('A', 'C'), 17.0, 0.06666666666666667),\n",
       " (('A', 'D'), 14.0, 0.06666666666666667),\n",
       " (('A', 'E'), 14.5, 0.13333333333333333),\n",
       " (('A', 'F'), 18.0, 0.06666666666666667),\n",
       " (('B', 'C'), 14.5, 0.06666666666666667),\n",
       " (('B', 'D'), 11.5, 0.13333333333333333),\n",
       " (('B', 'E'), 12.0, 0.06666666666666667),\n",
       " (('B', 'F'), 15.5, 0.06666666666666667),\n",
       " (('C', 'D'), 12.0, 0.06666666666666667),\n",
       " (('C', 'E'), 12.5, 0.06666666666666667),\n",
       " (('C', 'F'), 16.0, 0.06666666666666667),\n",
       " (('D', 'E'), 9.5, 0.06666666666666667)]"
      ]
     },
     "execution_count": 35,
     "metadata": {},
     "output_type": "execute_result"
    }
   ],
   "source": [
    "def calculate_probability(means):\n",
    "    '''\n",
    "    Input: a list of means (x_hats)\n",
    "    Output: a list of probablitity of each mean value\n",
    "    '''\n",
    "    import collections\n",
    "    #Calculate the frequency of each mean value\n",
    "    freq = np.array(list(collections.Counter(means).values()))/float(len(means))\n",
    "\n",
    "    return freq\n",
    "    \n",
    "probs = calculate_probability(means)\n",
    "\n",
    "# Print combinations with sample means and probability of each mean value\n",
    "list(zip(combs, means, probs))\n",
    "\n",
    "# ('A', 'B') 16.5 1/15\n",
    "# ('A', 'C') 17.0 1/15\n",
    "# ('A', 'D') 14.0 1/15\n",
    "# ('A', 'E') 14.5 2/15\n",
    "# ('A', 'F') 18.0 1/15\n",
    "# ('B', 'C') 14.5 2/15\n",
    "# ('B', 'D') 11.5 1/15\n",
    "# ('B', 'E') 12.0 2/15\n",
    "# ('B', 'F') 15.5 1/15\n",
    "# ('C', 'D') 12.0 2/15\n",
    "# ('C', 'E') 12.5 1/15\n",
    "# ('C', 'F') 16.0 1/15\n",
    "# ('D', 'E') 9.5 1/15\n",
    "# ('D', 'F') 13.0 1/15\n",
    "# ('E', 'F') 13.5 1/15\n"
   ]
  },
  {
   "cell_type": "markdown",
   "metadata": {},
   "source": [
    "Here we see that the chance that the sample mean is exactly the population mean (i.e. 14) is only 1 in 15 (row 3), very small. It may also happen that the sample mean can never be the same value as the population mean. \n",
    "\n",
    " The difference between sample mean and population mean is known as known as **Sampling Error**.  \n",
    "\n",
    ">When using the sample mean to estimate the population mean, some possible error will be involved since random sample mean is also random.\n",
    "\n",
    "## Sample size and sampling error: \n",
    "\n",
    "Sample means cluster more closely around the population mean as the sample size increases. Thus, possible sampling error decreases as sample size increases."
   ]
  },
  {
   "cell_type": "markdown",
   "metadata": {},
   "source": [
    "Let's repeat above exercise while increasing the sample size from 2 to 5. "
   ]
  },
  {
   "cell_type": "code",
   "execution_count": 36,
   "metadata": {},
   "outputs": [
    {
     "name": "stdout",
     "output_type": "stream",
     "text": [
      "Mean of population is: 14.0\n"
     ]
    },
    {
     "data": {
      "text/plain": [
       "[(('A', 'B', 'C', 'D', 'E'), 13.4, 0.16666666666666666),\n",
       " (('A', 'B', 'C', 'D', 'F'), 14.8, 0.16666666666666666),\n",
       " (('A', 'B', 'C', 'E', 'F'), 15.0, 0.16666666666666666),\n",
       " (('A', 'B', 'D', 'E', 'F'), 13.8, 0.16666666666666666),\n",
       " (('A', 'C', 'D', 'E', 'F'), 14.0, 0.16666666666666666),\n",
       " (('B', 'C', 'D', 'E', 'F'), 13.0, 0.16666666666666666)]"
      ]
     },
     "execution_count": 36,
     "metadata": {},
     "output_type": "execute_result"
    }
   ],
   "source": [
    "n = 5\n",
    "\n",
    "combs, means = sample_means(n, pumpkin_dict)\n",
    "probs = calculate_probability(means)\n",
    "list(zip(combs, means, probs))\n",
    "\n",
    "# Use above functions to generate combinations as samples with means and calculate the probability of seeing\n",
    "# each mean value  with sample size = 5.\n",
    "\n",
    "# Using 5 samples with a population of size, we can see 6 possible combinations \n",
    "# The mean of all sample means mu_x_hat is: 14.0\n",
    "# 1 ('A', 'B', 'C', 'D', 'E') 13.4 1/6\n",
    "# 2 ('A', 'B', 'C', 'D', 'F') 14.8 1/6\n",
    "# 3 ('A', 'B', 'C', 'E', 'F') 15.0 1/6\n",
    "# 4 ('A', 'B', 'D', 'E', 'F') 13.8 1/6\n",
    "# 5 ('A', 'C', 'D', 'E', 'F') 14.0 1/6\n",
    "# 6 ('B', 'C', 'D', 'E', 'F') 13.0 1/6\n"
   ]
  },
  {
   "cell_type": "markdown",
   "metadata": {},
   "source": [
    "Again, we see that using sample mean to estimate population mean involves sampling error. Sample means do not fully agree with population mean. The mean of sample means, however, is still 14. "
   ]
  },
  {
   "cell_type": "markdown",
   "metadata": {},
   "source": [
    "In order to fully appreciate the impact of sample size on estimating population mean, let's try to visualize sample means and how the spread of values change when changing sample size. \n",
    "\n",
    "In a loop, run the above experiment with sample sizes ranging from 1 to 5 and measure and visualise the spread of values around population mean. "
   ]
  },
  {
   "cell_type": "code",
   "execution_count": 40,
   "metadata": {},
   "outputs": [
    {
     "name": "stdout",
     "output_type": "stream",
     "text": [
      "Mean of population is: 14.0\n",
      "[(('A',), 19.0, 0.16666666666666666), (('B',), 14.0, 0.16666666666666666), (('C',), 15.0, 0.16666666666666666), (('D',), 9.0, 0.16666666666666666), (('E',), 10.0, 0.16666666666666666), (('F',), 17.0, 0.16666666666666666)]\n",
      "Mean of population is: 14.0\n",
      "[(('A', 'B'), 16.5, 0.06666666666666667), (('A', 'C'), 17.0, 0.06666666666666667), (('A', 'D'), 14.0, 0.06666666666666667), (('A', 'E'), 14.5, 0.13333333333333333), (('A', 'F'), 18.0, 0.06666666666666667), (('B', 'C'), 14.5, 0.06666666666666667), (('B', 'D'), 11.5, 0.13333333333333333), (('B', 'E'), 12.0, 0.06666666666666667), (('B', 'F'), 15.5, 0.06666666666666667), (('C', 'D'), 12.0, 0.06666666666666667), (('C', 'E'), 12.5, 0.06666666666666667), (('C', 'F'), 16.0, 0.06666666666666667), (('D', 'E'), 9.5, 0.06666666666666667)]\n",
      "Mean of population is: 14.0\n",
      "[(('A', 'B', 'C'), 16.0, 0.05), (('A', 'B', 'D'), 14.0, 0.1), (('A', 'B', 'E'), 14.333333333333334, 0.1), (('A', 'B', 'F'), 16.666666666666668, 0.05), (('A', 'C', 'D'), 14.333333333333334, 0.05), (('A', 'C', 'E'), 14.666666666666666, 0.05), (('A', 'C', 'F'), 17.0, 0.1), (('A', 'D', 'E'), 12.666666666666666, 0.05), (('A', 'D', 'F'), 15.0, 0.1), (('A', 'E', 'F'), 15.333333333333334, 0.05), (('B', 'C', 'D'), 12.666666666666666, 0.05), (('B', 'C', 'E'), 13.0, 0.05), (('B', 'C', 'F'), 15.333333333333334, 0.1), (('B', 'D', 'E'), 11.0, 0.05), (('B', 'D', 'F'), 13.333333333333334, 0.05)]\n",
      "Mean of population is: 14.0\n",
      "[(('A', 'B', 'C', 'D'), 14.25, 0.06666666666666667), (('A', 'B', 'C', 'E'), 14.5, 0.06666666666666667), (('A', 'B', 'C', 'F'), 16.25, 0.06666666666666667), (('A', 'B', 'D', 'E'), 13.0, 0.06666666666666667), (('A', 'B', 'D', 'F'), 14.75, 0.06666666666666667), (('A', 'B', 'E', 'F'), 15.0, 0.13333333333333333), (('A', 'C', 'D', 'E'), 13.25, 0.06666666666666667), (('A', 'C', 'D', 'F'), 15.0, 0.06666666666666667), (('A', 'C', 'E', 'F'), 15.25, 0.13333333333333333), (('A', 'D', 'E', 'F'), 13.75, 0.06666666666666667), (('B', 'C', 'D', 'E'), 12.0, 0.06666666666666667), (('B', 'C', 'D', 'F'), 13.75, 0.06666666666666667), (('B', 'C', 'E', 'F'), 14.0, 0.06666666666666667)]\n",
      "Mean of population is: 14.0\n",
      "[(('A', 'B', 'C', 'D', 'E'), 13.4, 0.16666666666666666), (('A', 'B', 'C', 'D', 'F'), 14.8, 0.16666666666666666), (('A', 'B', 'C', 'E', 'F'), 15.0, 0.16666666666666666), (('A', 'B', 'D', 'E', 'F'), 13.8, 0.16666666666666666), (('A', 'C', 'D', 'E', 'F'), 14.0, 0.16666666666666666), (('B', 'C', 'D', 'E', 'F'), 13.0, 0.16666666666666666)]\n"
     ]
    },
    {
     "data": {
      "image/png": "[encoded data removed]",
      "text/plain": [
       "<Figure size 432x288 with 1 Axes>"
      ]
     },
     "metadata": {
      "needs_background": "light"
     },
     "output_type": "display_data"
    },
    {
     "data": {
      "image/png": "[encoded data removed]",
      "text/plain": [
       "<Figure size 432x288 with 1 Axes>"
      ]
     },
     "metadata": {
      "needs_background": "light"
     },
     "output_type": "display_data"
    },
    {
     "data": {
      "image/png": "[encoded data removed]",
      "text/plain": [
       "<Figure size 432x288 with 1 Axes>"
      ]
     },
     "metadata": {
      "needs_background": "light"
     },
     "output_type": "display_data"
    },
    {
     "data": {
      "image/png": "[encoded data removed]",
      "text/plain": [
       "<Figure size 432x288 with 1 Axes>"
      ]
     },
     "metadata": {
      "needs_background": "light"
     },
     "output_type": "display_data"
    },
    {
     "data": {
      "image/png": "[encoded data removed]",
      "text/plain": [
       "<Figure size 432x288 with 1 Axes>"
      ]
     },
     "metadata": {
      "needs_background": "light"
     },
     "output_type": "display_data"
    }
   ],
   "source": [
    "# Run a for loop to execute above code for sample size 1 to 5 and visualise the spread of sample \n",
    "# means\n",
    "\n",
    "for n in range(1,6):\n",
    "    combs, means = sample_means(n, pumpkin_dict)\n",
    "    probs = calculate_probability(means)\n",
    "    print(list(zip(combs, means, probs)))\n",
    "    plt.figure()\n",
    "    plt.hist(means)\n",
    "    plt.vlines(14.0, 1, 10)\n",
    "    plt.xlim([8, 22])\n",
    "\n",
    "# Using 1 samples with a population of size, we can see 6 possible combinations \n",
    "# The mean of all sample means mu_x_hat is: 14.0\n",
    "\n",
    "# Using 2 samples with a population of size, we can see 15 possible combinations \n",
    "# The mean of all sample means mu_x_hat is: 14.0\n",
    "\n",
    "# Using 3 samples with a population of size, we can see 20 possible combinations \n",
    "# The mean of all sample means mu_x_hat is: 14.0\n",
    "\n",
    "# Using 4 samples with a population of size, we can see 15 possible combinations \n",
    "# The mean of all sample means mu_x_hat is: 14.0\n",
    "\n",
    "# Using 5 samples with a population of size, we can see 6 possible combinations \n",
    "# The mean of all sample means mu_x_hat is: 14.0"
   ]
  },
  {
   "cell_type": "markdown",
   "metadata": {},
   "source": [
    "Here can see that with increasing sample size, the **spread** of sample means is reducing and sample mean values tend to come closer to population mean. "
   ]
  },
  {
   "cell_type": "markdown",
   "metadata": {},
   "source": [
    "## Step 3: Calculate the standard error\n",
    "\n",
    "### So what is standard error ?\n",
    "\n",
    "The **_Standard Error (SE)_** is very similar to standard deviation. Both are measures of spread. The higher the number, the more spread out your data is. To put it simply, the two terms are essentially equal — but there is one important difference. While the standard error uses statistics (sample data) standard deviations use parameters (population data). We achieve this dividing the standard deviation by the square root ofthe sample size.\n",
    "\n",
    "The calculation for the standard error of the sample mean is:\n",
    "\n",
    "## $$ \\sigma_{\\bar{x}} = \\frac{\\sigma}{\\sqrt{n}} \\approx \\frac{s}{\\sqrt{n}}$$\n",
    "\n",
    "Here, $\\sigma$ is the population standard deviation (which we will approximate with the sample standard deviation) and $n$ is the sample size.\n",
    "\n",
    "Lets run above block of code again and calculate standard error according to chosen sample size"
   ]
  },
  {
   "cell_type": "code",
   "execution_count": 42,
   "metadata": {},
   "outputs": [
    {
     "name": "stdout",
     "output_type": "stream",
     "text": [
      "Mean of population is: 14.0\n",
      "[(('A',), 19.0, 0.16666666666666666), (('B',), 14.0, 0.16666666666666666), (('C',), 15.0, 0.16666666666666666), (('D',), 9.0, 0.16666666666666666), (('E',), 10.0, 0.16666666666666666), (('F',), 17.0, 0.16666666666666666)]\n",
      "Mean of population is: 14.0\n",
      "[(('A', 'B'), 16.5, 0.06666666666666667), (('A', 'C'), 17.0, 0.06666666666666667), (('A', 'D'), 14.0, 0.06666666666666667), (('A', 'E'), 14.5, 0.13333333333333333), (('A', 'F'), 18.0, 0.06666666666666667), (('B', 'C'), 14.5, 0.06666666666666667), (('B', 'D'), 11.5, 0.13333333333333333), (('B', 'E'), 12.0, 0.06666666666666667), (('B', 'F'), 15.5, 0.06666666666666667), (('C', 'D'), 12.0, 0.06666666666666667), (('C', 'E'), 12.5, 0.06666666666666667), (('C', 'F'), 16.0, 0.06666666666666667), (('D', 'E'), 9.5, 0.06666666666666667)]\n",
      "Mean of population is: 14.0\n",
      "[(('A', 'B', 'C'), 16.0, 0.05), (('A', 'B', 'D'), 14.0, 0.1), (('A', 'B', 'E'), 14.333333333333334, 0.1), (('A', 'B', 'F'), 16.666666666666668, 0.05), (('A', 'C', 'D'), 14.333333333333334, 0.05), (('A', 'C', 'E'), 14.666666666666666, 0.05), (('A', 'C', 'F'), 17.0, 0.1), (('A', 'D', 'E'), 12.666666666666666, 0.05), (('A', 'D', 'F'), 15.0, 0.1), (('A', 'E', 'F'), 15.333333333333334, 0.05), (('B', 'C', 'D'), 12.666666666666666, 0.05), (('B', 'C', 'E'), 13.0, 0.05), (('B', 'C', 'F'), 15.333333333333334, 0.1), (('B', 'D', 'E'), 11.0, 0.05), (('B', 'D', 'F'), 13.333333333333334, 0.05)]\n",
      "Mean of population is: 14.0\n",
      "[(('A', 'B', 'C', 'D'), 14.25, 0.06666666666666667), (('A', 'B', 'C', 'E'), 14.5, 0.06666666666666667), (('A', 'B', 'C', 'F'), 16.25, 0.06666666666666667), (('A', 'B', 'D', 'E'), 13.0, 0.06666666666666667), (('A', 'B', 'D', 'F'), 14.75, 0.06666666666666667), (('A', 'B', 'E', 'F'), 15.0, 0.13333333333333333), (('A', 'C', 'D', 'E'), 13.25, 0.06666666666666667), (('A', 'C', 'D', 'F'), 15.0, 0.06666666666666667), (('A', 'C', 'E', 'F'), 15.25, 0.13333333333333333), (('A', 'D', 'E', 'F'), 13.75, 0.06666666666666667), (('B', 'C', 'D', 'E'), 12.0, 0.06666666666666667), (('B', 'C', 'D', 'F'), 13.75, 0.06666666666666667), (('B', 'C', 'E', 'F'), 14.0, 0.06666666666666667)]\n",
      "Mean of population is: 14.0\n",
      "[(('A', 'B', 'C', 'D', 'E'), 13.4, 0.16666666666666666), (('A', 'B', 'C', 'D', 'F'), 14.8, 0.16666666666666666), (('A', 'B', 'C', 'E', 'F'), 15.0, 0.16666666666666666), (('A', 'B', 'D', 'E', 'F'), 13.8, 0.16666666666666666), (('A', 'C', 'D', 'E', 'F'), 14.0, 0.16666666666666666), (('B', 'C', 'D', 'E', 'F'), 13.0, 0.16666666666666666)]\n"
     ]
    },
    {
     "data": {
      "image/png": "[encoded data removed]",
      "text/plain": [
       "<Figure size 432x288 with 1 Axes>"
      ]
     },
     "metadata": {
      "needs_background": "light"
     },
     "output_type": "display_data"
    }
   ],
   "source": [
    "\n",
    "# Create empty lists for storing sample means, combinations and standard error for each iteration\n",
    "means_list = []\n",
    "combs_list = []\n",
    "err_list = []\n",
    "plt.figure()\n",
    "# Create a for loop with changing sample sizes\n",
    "for n in range(1,6):\n",
    "    # Calculate combinations, means as earlier, append to relevant lists\n",
    "    combs, means = sample_means(n, pumpkin_dict)\n",
    "    probs = calculate_probability(means)\n",
    "    print(list(zip(combs, means, probs)))\n",
    "#     plt.figure()\n",
    "#     plt.hist(means)\n",
    "#     plt.vlines(14.0, 1, 10)\n",
    "#     plt.xlim([8, 22])\n",
    "    means_list.append(means)\n",
    "    combs_list.append(combs)\n",
    "    # Calculate and append the standard error by dividing sample means with square root of sample size\n",
    "    err_list.append(np.std(means)/np.sqrt(n))\n",
    "    # Visualize sample spread and standard error values for each sample\n",
    "    plt.scatter(n, err_list[-1])"
   ]
  },
  {
   "cell_type": "markdown",
   "metadata": {},
   "source": [
    "Thus, even though each sample may give you an answer involving some error, the expected value is right at the target: exactly the population mean. In other words, if one does the experiment over and over again, the overall average of the sample mean is exactly the population mean. If the sample size is increased, the standard error is reduced. \n",
    "\n",
    "According to **Central Limit Theorem**, for a large sample size, `x_hat` is approximately normally distributed, regardless of the distribution of the population one samples from\n",
    "\n",
    "## Summary\n",
    "\n",
    "In this lab we saw how sampling statistics relate to population statistics. In order to estimate a population parameter (i.e. mean) with a high level of accuracy, We must reduce the spread or the sample error which is simply the standard deviation of the samples from the sample mean. The size of samples must be set carefully in order to avoid excessive values for standard error to gain a high level of confidence in our population estimates. "
   ]
  }
 ],
 "metadata": {
  "kernelspec": {
   "display_name": "Python 3",
   "language": "python",
   "name": "python3"
  },
  "language_info": {
   "codemirror_mode": {
    "name": "ipython",
    "version": 3
   },
   "file_extension": ".py",
   "mimetype": "text/x-python",
   "name": "python",
   "nbconvert_exporter": "python",
   "pygments_lexer": "ipython3",
   "version": "3.6.6"
  }
 },
 "nbformat": 4,
 "nbformat_minor": 2
}
